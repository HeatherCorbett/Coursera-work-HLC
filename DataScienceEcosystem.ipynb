{
 "cells": [
  {
   "cell_type": "markdown",
   "id": "e39e22fa",
   "metadata": {},
   "source": [
    "# H1: Data Science Tools and Ecosystem"
   ]
  },
  {
   "cell_type": "markdown",
   "id": "824df09e",
   "metadata": {},
   "source": [
    "In this notebook, Data Science Tools and Ecosystem are summrized."
   ]
  },
  {
   "cell_type": "markdown",
   "id": "34eceecb",
   "metadata": {},
   "source": [
    "**Objectives**\n",
    "+ List popular languages for data science\n",
    "+ Name development environment open source tools used in data science\n",
    "+ Demonstrate how to mulitply and add numbers"
   ]
  },
  {
   "cell_type": "markdown",
   "id": "0f34079c",
   "metadata": {},
   "source": [
    "Some of the popular languages that Data Scientist use are:\n",
    "   1. Python\n",
    "   2. SQL\n",
    "   3. R"
   ]
  },
  {
   "cell_type": "markdown",
   "id": "abf1d5e5",
   "metadata": {},
   "source": [
    "Some of the commonly used libraries in data science include:\n",
    "1. NumPy\n",
    "2. Pandas\n",
    "3. Matplotlib"
   ]
  },
  {
   "cell_type": "markdown",
   "id": "57e99a84",
   "metadata": {},
   "source": [
    "|Data Science Tools|\n",
    "|------------------|\n",
    "|RStudio|\n",
    "|Apache Spark|\n",
    "|TensorFlow|"
   ]
  },
  {
   "cell_type": "markdown",
   "id": "acaccb2f",
   "metadata": {},
   "source": [
    "### Below are a few examles of evaluating arithmetic expressions in Python."
   ]
  },
  {
   "cell_type": "code",
   "execution_count": 1,
   "id": "cf0c5b22",
   "metadata": {},
   "outputs": [
    {
     "data": {
      "text/plain": [
       "17"
      ]
     },
     "execution_count": 1,
     "metadata": {},
     "output_type": "execute_result"
    }
   ],
   "source": [
    "# This is a a simple arithmetic expression to mulitply and then add integers.\n",
    "(3*4)+5"
   ]
  },
  {
   "cell_type": "code",
   "execution_count": 2,
   "id": "c971dc0a",
   "metadata": {},
   "outputs": [
    {
     "data": {
      "text/plain": [
       "3"
      ]
     },
     "execution_count": 2,
     "metadata": {},
     "output_type": "execute_result"
    }
   ],
   "source": [
    "# This will convert 200 minutes to hours by dividing by 60.\n",
    "200//60"
   ]
  },
  {
   "cell_type": "markdown",
   "id": "3549ab06",
   "metadata": {},
   "source": [
    "## Author\n",
    "Heather Corbett"
   ]
  },
  {
   "cell_type": "code",
   "execution_count": null,
   "id": "5f7cdd7e",
   "metadata": {},
   "outputs": [],
   "source": []
  }
 ],
 "metadata": {
  "kernelspec": {
   "display_name": "Python 3 (ipykernel)",
   "language": "python",
   "name": "python3"
  },
  "language_info": {
   "codemirror_mode": {
    "name": "ipython",
    "version": 3
   },
   "file_extension": ".py",
   "mimetype": "text/x-python",
   "name": "python",
   "nbconvert_exporter": "python",
   "pygments_lexer": "ipython3",
   "version": "3.11.5"
  }
 },
 "nbformat": 4,
 "nbformat_minor": 5
}
